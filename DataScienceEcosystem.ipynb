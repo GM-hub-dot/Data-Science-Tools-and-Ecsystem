{
 "cells": [
  {
   "cell_type": "markdown",
   "id": "9c66ef52-9331-4c25-86d1-4ae8c3e4996d",
   "metadata": {
    "tags": []
   },
   "source": [
    "# Data Science Tools and Ecosystems \n"
   ]
  },
  {
   "cell_type": "markdown",
   "id": "d0418b66-f93d-452c-ba75-c3e03697317d",
   "metadata": {},
   "source": [
    "This notebook will summarize some tools and the ecosystem of Data Science.\n"
   ]
  },
  {
   "cell_type": "markdown",
   "id": "2c14f1d7-6c2a-4af7-b63a-a93e309f494c",
   "metadata": {},
   "source": [
    " Objectives \n",
    "- List popular language for data science \n",
    "- list popular libraries for data science \n",
    "- column of data science tools \n",
    "- arithmetic expression \n",
    "- convert minutes into hours "
   ]
  },
  {
   "cell_type": "markdown",
   "id": "f0afa827-9692-4998-ac68-5cc42b094889",
   "metadata": {},
   "source": [
    "Some popular languages used in coding are: \n",
    "1. Python \n",
    "2. R\n",
    "3. SQL"
   ]
  },
  {
   "cell_type": "markdown",
   "id": "7a0c59c4-a1a4-4bcd-a5a9-8444807adf62",
   "metadata": {
    "tags": []
   },
   "source": [
    "There are many different libraries used in coding here are a few: \n",
    "1. Matplotlib\n",
    "2. Seaborn\n",
    "3. NumPy \n",
    "4. Pandas  \n",
    "5. Scikit-learn \n",
    "6. Keras\n",
    "7. tensorFlow\n",
    "8. PyTourch "
   ]
  },
  {
   "cell_type": "code",
   "execution_count": 17,
   "id": "13e6a7f4-c085-407b-b26e-1a38790efb13",
   "metadata": {
    "tags": []
   },
   "outputs": [
    {
     "name": "stdout",
     "output_type": "stream",
     "text": [
      "  Data Science Tools\n",
      "0   Jupyter Notebook\n",
      "1    Apache Zeppelin\n",
      "2            RStudio\n"
     ]
    }
   ],
   "source": [
    "import pandas as pd\n",
    "\n",
    "# Create a sample DataFrame\n",
    "df = pd.DataFrame({'Data Science Tools': ['Jupyter Notebook', 'Apache Zeppelin', 'RStudio']})\n",
    "\n",
    "print(df)\n"
   ]
  },
  {
   "cell_type": "markdown",
   "id": "19227282-916f-4079-b56d-b0de09d4de98",
   "metadata": {},
   "source": [
    "Here are some examples of arithmetic expression in Python "
   ]
  },
  {
   "cell_type": "code",
   "execution_count": 18,
   "id": "4f350b7f-f3f3-419e-8d33-072049b6af0b",
   "metadata": {
    "tags": []
   },
   "outputs": [
    {
     "name": "stdout",
     "output_type": "stream",
     "text": [
      "17\n"
     ]
    }
   ],
   "source": [
    "#This a simple arithmetic expression to mutiply then add integers\n",
    "x=3\n",
    "y=4\n",
    "z=5\n",
    "print ((x*y)+z)"
   ]
  },
  {
   "cell_type": "code",
   "execution_count": 19,
   "id": "91ef457d-2317-4ac1-bb96-b665ad37039f",
   "metadata": {
    "tags": []
   },
   "outputs": [
    {
     "name": "stdout",
     "output_type": "stream",
     "text": [
      "200 minutes is equal to 3.3333333333333335 hours\n"
     ]
    }
   ],
   "source": [
    "#this will convert 200 minutes into hours by dividing 200 by 60 \n",
    "def minutes_to_hours(minutes):\n",
    "    hours = minutes / 60\n",
    "    return hours\n",
    "\n",
    "minutes = 200\n",
    "hours = minutes_to_hours(minutes)\n",
    "\n",
    "print(f\"{minutes} minutes is equal to {hours} hours\")"
   ]
  },
  {
   "cell_type": "markdown",
   "id": "9c3e3015-c302-46ee-82b3-ba2fda067e31",
   "metadata": {},
   "source": [
    "## Author \n",
    "Genesis Mead"
   ]
  },
  {
   "cell_type": "code",
   "execution_count": null,
   "id": "58631af4-4704-47da-abe6-5c44aea5b08d",
   "metadata": {},
   "outputs": [],
   "source": []
  }
 ],
 "metadata": {
  "kernelspec": {
   "display_name": "Python",
   "language": "python",
   "name": "conda-env-python-py"
  },
  "language_info": {
   "codemirror_mode": {
    "name": "ipython",
    "version": 3
   },
   "file_extension": ".py",
   "mimetype": "text/x-python",
   "name": "python",
   "nbconvert_exporter": "python",
   "pygments_lexer": "ipython3",
   "version": "3.7.12"
  }
 },
 "nbformat": 4,
 "nbformat_minor": 5
}
